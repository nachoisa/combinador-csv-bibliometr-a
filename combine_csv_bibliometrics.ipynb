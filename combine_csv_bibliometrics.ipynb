{
 "cells": [
  {
   "cell_type": "markdown",
   "id": "4178d98d-301c-4104-b948-e8c46daca841",
   "metadata": {},
   "source": [
    "# 📂 Verificación y combinación de archivos CSV bibliométricos\n",
    "\n",
    "Este cuaderno está diseñado para **verificar** si todos los archivos `.csv` dentro de una carpeta determinada tienen la **misma estructura de columnas**. Si todos coinciden, el sistema procede a **unirlos en un solo archivo combinado** para facilitar el análisis posterior.\n",
    "\n",
    "### 🔍 Funcionalidades principales:\n",
    "- Lista y compara automáticamente los nombres de columnas de cada archivo CSV.\n",
    "- Detecta si algún archivo tiene columnas distintas.\n",
    "- Une todos los archivos CSV que tengan la misma estructura en un solo DataFrame.\n",
    "- Guarda el resultado como un nuevo archivo `.csv` en una carpeta específica.\n",
    "\n",
    "\n",
    "💾 **Nombre del archivo generado:**  \n",
    "`csv_combinado.csv`\n",
    "\n",
    "---\n",
    "\n",
    "**Autor:** Ignacio Isa Vargas  \n",
    "**Fecha:** `24 de abril de 2025`"
   ]
  },
  {
   "cell_type": "code",
   "execution_count": null,
   "id": "b4f7afc8-552d-4195-a674-c4d4fa4924aa",
   "metadata": {},
   "outputs": [],
   "source": [
    "# Importar librerías \n",
    "import pandas as pd\n",
    "import os"
   ]
  },
  {
   "cell_type": "code",
   "execution_count": null,
   "id": "28b49b06-e4df-49c9-b80a-6e3fb8371921",
   "metadata": {},
   "outputs": [],
   "source": [
    "# Definir la ruta de la carpeta con los archivos CSV\n",
    "carpeta = r\"C:\\Users\\USER\\Proyecto Bibliometría Grafeno\\datos_csv\" # Cambia la ruta"
   ]
  },
  {
   "cell_type": "code",
   "execution_count": null,
   "id": "e194a551-181e-4140-a751-0396ed7a028d",
   "metadata": {},
   "outputs": [],
   "source": [
    "# Verificar si todos los archivos tienen las mismas columnas\n",
    "\n",
    "archivos = [f for f in os.listdir(carpeta) if f.endswith('.csv')]\n",
    "columnas_archivos = {}\n",
    "todos_iguales = True\n",
    "columnas_ref = None\n",
    "\n",
    "for archivo in archivos:\n",
    "    ruta = os.path.join(carpeta, archivo)\n",
    "    try:\n",
    "        df = pd.read_csv(ruta, nrows=1)\n",
    "        columnas_archivos[archivo] = df.columns.tolist()\n",
    "    except Exception as e:\n",
    "        print(f\"Error leyendo {archivo}: {e}\")\n",
    "\n",
    "for archivo, columnas in columnas_archivos.items():\n",
    "    if columnas_ref is None:\n",
    "        columnas_ref = columnas\n",
    "    elif columnas != columnas_ref:\n",
    "        todos_iguales = False\n",
    "        print(f\"Columnas distintas en: {archivo}\")\n",
    "        print(\"Estas son sus columnas:\", columnas)\n",
    "        print(\"-\" * 50)\n",
    "\n",
    "if todos_iguales:\n",
    "    print(\"Todos los archivos CSV tienen las mismas columnas.\")\n",
    "else:\n",
    "    print(\"No todos los archivos tienen las mismas columnas. No se procederá a unirlos.\")"
   ]
  },
  {
   "cell_type": "code",
   "execution_count": null,
   "id": "ad5f62db-d1f4-4466-b0e2-e08616a732f6",
   "metadata": {},
   "outputs": [],
   "source": [
    "# Unir los archivos CSV en un solo DataFrame solo si don iguales\n",
    "if todos_iguales:\n",
    "    dataframes = []\n",
    "\n",
    "    for archivo in archivos:\n",
    "        ruta = os.path.join(carpeta, archivo)\n",
    "        df = pd.read_csv(ruta)\n",
    "        dataframes.append(df)\n",
    "\n",
    "    df_total = pd.concat(dataframes, ignore_index=True)\n",
    "    print(\"Archivos unidos correctamente.\")\n",
    "else:\n",
    "    df_total = None"
   ]
  },
  {
   "cell_type": "code",
   "execution_count": null,
   "id": "9ab4c621-1772-450b-b6b5-26c6cbeab32f",
   "metadata": {},
   "outputs": [],
   "source": [
    "# Mostrar información general del DataFrame combinado\n",
    "\n",
    "if df_total is not None:\n",
    "    print(\"\\nInformación general del DataFrame combinado:\")\n",
    "    print(f\"Filas totales: {df_total.shape[0]}\")\n",
    "    print(f\"Columnas totales: {df_total.shape[1]}\")\n",
    "    print(f\"Columnas: {list(df_total.columns)}\\n\")\n",
    "\n",
    "    print(\"Valores faltantes por columna:\")\n",
    "    print(df_total.isnull().sum())\n",
    "\n",
    "    print(\"\\n Primeras filas del DataFrame:\")\n",
    "    display(df_total.head())  # Solo en Jupyter"
   ]
  },
  {
   "cell_type": "code",
   "execution_count": null,
   "id": "6e28b57b-bd5e-412a-aa83-95f51756872c",
   "metadata": {},
   "outputs": [],
   "source": [
    "# Guardar el DataFrame combinado\n",
    "\n",
    "ruta_carpeta = r\"C:\\Users\\USER\\Proyecto Bibliometría Grafeno\\data\" # Cambia la ruta y crea nueva carpeta \"\\data\"\n",
    "# Crear la carpeta si no existe\n",
    "os.makedirs(ruta_carpeta, exist_ok=True)\n",
    "\n",
    "# Guardar el archivo\n",
    "if df_total is not None:\n",
    "    archivo_guardado = os.path.join(ruta_carpeta, \"csv_combinado.csv\")\n",
    "    df_total.to_csv(archivo_guardado, index=False)\n",
    "    print(f\"Archivo guardado correctamente en: {archivo_guardado}\")\n",
    "else:\n",
    "    print(\"No se generó un DataFrame combinado, por lo tanto no se guardó ningún archivo.\")"
   ]
  }
 ],
 "metadata": {
  "kernelspec": {
   "display_name": "Python 3 (ipykernel)",
   "language": "python",
   "name": "python3"
  },
  "language_info": {
   "codemirror_mode": {
    "name": "ipython",
    "version": 3
   },
   "file_extension": ".py",
   "mimetype": "text/x-python",
   "name": "python",
   "nbconvert_exporter": "python",
   "pygments_lexer": "ipython3",
   "version": "3.12.7"
  }
 },
 "nbformat": 4,
 "nbformat_minor": 5
}
